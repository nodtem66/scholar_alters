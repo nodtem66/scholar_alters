{
 "cells": [
  {
   "cell_type": "code",
   "execution_count": 34,
   "metadata": {},
   "outputs": [
    {
     "name": "stdout",
     "output_type": "stream",
     "text": [
      "The autoreload extension is already loaded. To reload it, use:\n",
      "  %reload_ext autoreload\n",
      "Found 100 messages\n"
     ]
    }
   ],
   "source": [
    "# Get emails from Gmail and parse the papers and save it as excel file\n",
    "%load_ext autoreload\n",
    "%autoreload 2\n",
    "from connect_to_service import *\n",
    "from parse_gmail_message import *\n",
    "from semantic_scholar import query_tldr_all_papers\n",
    "\n",
    "import pandas as pd\n",
    "import base64\n",
    "import os.path as ospath\n",
    "\n",
    "# Override the default parameters\n",
    "DATA_FOLDER = \"./data/\"\n",
    "PAPERS_LABEL = 'Subscribe/Gscholar'\n",
    "SHEET_ID = '1Z5Riim21O7Ti5hHlWzriBhn2CbJibqee4psHkonCcBw'\n",
    "\n",
    "# Create data folder if not exists\n",
    "if not ospath.exists(DATA_FOLDER):\n",
    "  ospath.makedirs(DATA_FOLDER)\n",
    "\n",
    "# Call the Gmail API\n",
    "creds = get_creds(DATA_FOLDER)\n",
    "service = get_gmail_service(creds)\n",
    "\n",
    "# Get all the messages with labels\n",
    "labels = GetLabelsId(service,'me',[PAPERS_LABEL])\n",
    "messages = ListMessagesWithLabels(service,\"me\",labels, maxResults=100)\n",
    "print (f'Found {len(messages)} messages')"
   ]
  },
  {
   "cell_type": "code",
   "execution_count": 58,
   "metadata": {},
   "outputs": [],
   "source": [
    "# Parse the mails\n",
    "from parse_gmail_message import PapersHTMLParser, PaperAggregator\n",
    "pa = PaperAggregator()\n",
    "\n",
    "for msg in messages:\n",
    "  msg_content = GetMessage(service, \"me\", msg['id'])\n",
    "  try:\n",
    "    msg_str = base64.urlsafe_b64decode(msg_content['payload']['body']['data']).decode('utf-8', 'ignore').encode('ascii', 'ignore')\n",
    "  except KeyError:\n",
    "    continue\n",
    "\n",
    "  msg_title = ''\n",
    "  for h in msg_content['payload']['headers']:\n",
    "    if h['name'] == 'Subject':\n",
    "      msg_title = h['value']\n",
    "  parser = PapersHTMLParser(msg_title)\n",
    "  parser.parse(msg_str)\n",
    "  parser.check_valid_papers()\n",
    "\n",
    "  #for paper in parser.papers:\n",
    "    #pa.add(paper)"
   ]
  },
  {
   "cell_type": "code",
   "execution_count": 24,
   "metadata": {},
   "outputs": [],
   "source": [
    "# Change index to uuid\n",
    "import uuid\n",
    "from parse_gmail_message import PaperAggregator\n",
    "import os.path as ospath\n",
    "\n",
    "ns = uuid.uuid5(uuid.NAMESPACE_URL, 'gscholar')\n",
    "pa = PaperAggregator()\n",
    "pa.load_excel(ospath.join(\"data\", 'archive.xlsx'))\n",
    "df = pa.to_dataframe()"
   ]
  }
 ],
 "metadata": {
  "kernelspec": {
   "display_name": "gscholar",
   "language": "python",
   "name": "python3"
  },
  "language_info": {
   "codemirror_mode": {
    "name": "ipython",
    "version": 3
   },
   "file_extension": ".py",
   "mimetype": "text/x-python",
   "name": "python",
   "nbconvert_exporter": "python",
   "pygments_lexer": "ipython3",
   "version": "3.11.7"
  }
 },
 "nbformat": 4,
 "nbformat_minor": 2
}
