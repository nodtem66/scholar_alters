{
 "cells": [
  {
   "cell_type": "code",
   "execution_count": 15,
   "metadata": {},
   "outputs": [
    {
     "name": "stdout",
     "output_type": "stream",
     "text": [
      "The autoreload extension is already loaded. To reload it, use:\n",
      "  %reload_ext autoreload\n",
      "Found 8 messages\n",
      "Found 37 papers (New: 0, Duplicated: 37)\n",
      "Querying TLDR for 14 papers\n"
     ]
    },
    {
     "name": "stderr",
     "output_type": "stream",
     "text": [
      "100%|██████████| 14/14 [00:33<00:00,  2.36s/it]\n"
     ]
    },
    {
     "name": "stdout",
     "output_type": "stream",
     "text": [
      "Unread: 31\n",
      "Missing TLDR: 405\n",
      "[Sheet] Number of Updated records: 0\n",
      "[Sheet] Number of New records: 31\n"
     ]
    }
   ],
   "source": [
    "# Get emails from Gmail and parse the papers and save it as excel file\n",
    "%load_ext autoreload\n",
    "%autoreload 2\n",
    "from connect_to_service import *\n",
    "from parse_gmail_message import *\n",
    "from semantic_scholar import query_tldr_all_papers\n",
    "\n",
    "import pandas as pd\n",
    "import base64\n",
    "import os.path as ospath\n",
    "\n",
    "# Override the default parameters\n",
    "DATA_FOLDER = \"./data/\"\n",
    "PAPERS_LABEL = 'Subscribe/Gscholar'\n",
    "SHEET_ID = '1Z5Riim21O7Ti5hHlWzriBhn2CbJibqee4psHkonCcBw'\n",
    "\n",
    "# Create data folder if not exists\n",
    "if not ospath.exists(DATA_FOLDER):\n",
    "  ospath.makedirs(DATA_FOLDER)\n",
    "\n",
    "# Call the Gmail API\n",
    "creds = get_creds(DATA_FOLDER)\n",
    "service = get_gmail_service(creds)\n",
    "sheet_service = get_sheets_service(creds)\n",
    "\n",
    "# Get all the messages with labels\n",
    "labels = GetLabelsId(service,'me',[PAPERS_LABEL,'UNREAD'])\n",
    "messages = ListMessagesWithLabels(service,\"me\",labels)\n",
    "print (f'Found {len(messages)} messages')\n",
    "\n",
    "# Parse the mails\n",
    "pa = PaperAggregator()\n",
    "\n",
    "for msg in messages:\n",
    "  msg_content = GetMessage(service, \"me\", msg['id'])\n",
    "  try:\n",
    "    msg_str = base64.urlsafe_b64decode(msg_content['payload']['body']['data'].encode('utf-8'))\n",
    "  except KeyError:\n",
    "    continue\n",
    "\n",
    "  msg_title = ''\n",
    "  for h in msg_content['payload']['headers']:\n",
    "    if h['name'] == 'Subject':\n",
    "      msg_title = h['value']\n",
    "  parser = PapersHTMLParser(msg_title)\n",
    "  parser.feed(str(msg_str))\n",
    "\n",
    "  for paper in parser.papers:\n",
    "    pa.add(paper)\n",
    "\n",
    "total_papers = len(pa.paper_list)\n",
    "# Remove previously seen papers\n",
    "old_pa = PaperAggregator()\n",
    "old_pa.load_excel(ospath.join(DATA_FOLDER, 'archive.xlsx'))\n",
    "#old_pa.load_csv(ospath.join(DATA_FOLDER, 'archive.csv'))\n",
    "for paper in old_pa.paper_list:\n",
    "  pa.remove(paper)\n",
    "\n",
    "# Sort by number of refernece mails\n",
    "total_new_papers = len(pa.paper_list)\n",
    "print (f'Found {total_papers} papers (New: {total_new_papers}, Duplicated: {total_papers-total_new_papers})')\n",
    "\n",
    "old_pa.merge(pa)\n",
    "df = old_pa.to_dataframe()\n",
    "query_tldr_all_papers(df)\n",
    "\n",
    "# Compare with google sheet\n",
    "prepare_data = PrepareDataforUpdateSheet(sheet_service, SHEET_ID, df)\n",
    "\n",
    "df.to_excel(ospath.join(DATA_FOLDER, 'archive.xlsx'), index=False)\n",
    "#df.to_csv(ospath.join(DATA_FOLDER, 'archive.csv'), index=False)\n",
    "print(f'Unread: {df.query(\"status == 0\").shape[0]}')\n",
    "number_missing = df.query(\"tldr == ''\").shape[0]\n",
    "print(f'Missing TLDR: {number_missing}')\n",
    "print(f\"[Sheet] Number of Updated records: {len(prepare_data['write_data'])}\")\n",
    "print(f\"[Sheet] Number of New records: {len(prepare_data['append_data'])}\")"
   ]
  },
  {
   "cell_type": "code",
   "execution_count": 16,
   "metadata": {},
   "outputs": [
    {
     "name": "stdout",
     "output_type": "stream",
     "text": [
      "341 cells appended.\n"
     ]
    }
   ],
   "source": [
    "# Update google sheet\n",
    "if len(prepare_data['write_data']) > 0:\n",
    "  UpdateSheet(sheet_service, SHEET_ID, prepare_data['write_data'])\n",
    "if len(prepare_data['append_data']) > 0:\n",
    "  AppendSheet(sheet_service, SHEET_ID, prepare_data['append_data'])"
   ]
  },
  {
   "cell_type": "code",
   "execution_count": 17,
   "metadata": {},
   "outputs": [],
   "source": [
    "# Mark all as read\n",
    "body = {\"addLabelIds\": [], \"removeLabelIds\": [\"UNREAD\",\"INBOX\"]}\n",
    "for msg in messages:\n",
    "  service.users().messages().modify(userId=\"me\", id=msg['id'], body=body).execute()"
   ]
  }
 ],
 "metadata": {
  "kernelspec": {
   "display_name": "gscholar",
   "language": "python",
   "name": "python3"
  },
  "language_info": {
   "codemirror_mode": {
    "name": "ipython",
    "version": 3
   },
   "file_extension": ".py",
   "mimetype": "text/x-python",
   "name": "python",
   "nbconvert_exporter": "python",
   "pygments_lexer": "ipython3",
   "version": "3.11.7"
  }
 },
 "nbformat": 4,
 "nbformat_minor": 2
}
